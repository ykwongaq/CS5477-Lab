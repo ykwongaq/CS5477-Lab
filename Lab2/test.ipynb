{
 "cells": [
  {
   "cell_type": "code",
   "execution_count": 1,
   "id": "ea6113d4",
   "metadata": {},
   "outputs": [],
   "source": [
    "import numpy as np\n",
    "np.set_printoptions(suppress=True)"
   ]
  },
  {
   "cell_type": "code",
   "execution_count": 3,
   "id": "18b3a892",
   "metadata": {},
   "outputs": [],
   "source": [
    "def compute_homography(src, dst):\n",
    "    \"\"\"Calculates the perspective transform from at least 4 points of\n",
    "    corresponding points using the **Normalized** Direct Linear Transformation\n",
    "    method.\n",
    "\n",
    "    Args:\n",
    "        src (np.ndarray): Coordinates of points in the first image (N,2)\n",
    "        dst (np.ndarray): Corresponding coordinates of points in the second\n",
    "                          image (N,2)\n",
    "\n",
    "    Returns:\n",
    "        h_matrix (np.ndarray): The required 3x3 transformation matrix H.\n",
    "\n",
    "    Prohibited functions:\n",
    "        cv2.findHomography(), cv2.getPerspectiveTransform(),\n",
    "        np.linalg.solve(), np.linalg.lstsq()\n",
    "    \"\"\"\n",
    "\n",
    "    h_matrix = np.eye(3, dtype=np.float64)\n",
    "\n",
    "    \"\"\" YOUR CODE STARTS HERE \"\"\"\n",
    "    # Compute normalization matrix\n",
    "    centroid_src = np.mean(src, axis=0)\n",
    "    d_src = np.linalg.norm(src - centroid_src[None, :], axis=1)\n",
    "    s_src = sqrt(2) / np.mean(d_src)\n",
    "    T_norm_src = np.array([[s_src, 0.0, -s_src * centroid_src[0]],\n",
    "                           [0.0, s_src, -s_src * centroid_src[1]],\n",
    "                           [0.0, 0.0, 1.0]])\n",
    "\n",
    "    centroid_dst = np.mean(dst, axis=0)\n",
    "    d_dst = np.linalg.norm(dst - centroid_dst[None, :], axis=1)\n",
    "    s_dst = sqrt(2) / np.mean(d_dst)\n",
    "    T_norm_dst = np.array([[s_dst, 0.0, -s_dst * centroid_dst[0]],\n",
    "                           [0.0, s_dst, -s_dst * centroid_dst[1]],\n",
    "                           [0.0, 0.0, 1.0]])\n",
    "\n",
    "    srcn = transform_homography(src, T_norm_src)\n",
    "    dstn = transform_homography(dst, T_norm_dst)\n",
    "\n",
    "    # Compute homography\n",
    "    n_corr = srcn.shape[0]\n",
    "    A = np.zeros((n_corr*2, 9), dtype=np.float64)\n",
    "    for i in range(n_corr):\n",
    "        A[2 * i, 0] = srcn[i, 0]\n",
    "        A[2 * i, 1] = srcn[i, 1]\n",
    "        A[2 * i, 2] = 1.0\n",
    "        A[2 * i, 6] = -dstn[i, 0] * srcn[i, 0]\n",
    "        A[2 * i, 7] = -dstn[i, 0] * srcn[i, 1]\n",
    "        A[2 * i, 8] = -dstn[i, 0] * 1.0\n",
    "\n",
    "        A[2 * i + 1, 3] = srcn[i, 0]\n",
    "        A[2 * i + 1, 4] = srcn[i, 1]\n",
    "        A[2 * i + 1, 5] = 1.0\n",
    "        A[2 * i + 1, 6] = -dstn[i, 1] * srcn[i, 0]\n",
    "        A[2 * i + 1, 7] = -dstn[i, 1] * srcn[i, 1]\n",
    "        A[2 * i + 1, 8] = -dstn[i, 1] * 1.0\n",
    "\n",
    "    u, s, vt = np.linalg.svd(A)\n",
    "    h_matrix_n = np.reshape(vt[-1, :], (3, 3))\n",
    "\n",
    "    # Unnormalize homography\n",
    "    h_matrix = np.linalg.inv(T_norm_dst) @ h_matrix_n @ T_norm_src\n",
    "    h_matrix /= h_matrix[2, 2]\n",
    "\n",
    "    # src = src.astype(np.float32)\n",
    "    # dst = dst.astype(np.float32)\n",
    "    # h_matrix = cv2.findHomography(src, dst)[0].astype(np.float64)\n",
    "    \"\"\" YOUR CODE ENDS HERE \"\"\"\n",
    "\n",
    "    return h_matrix"
   ]
  },
  {
   "cell_type": "code",
   "execution_count": 2,
   "id": "a4593862",
   "metadata": {},
   "outputs": [],
   "source": [
    "A = np.array([[1.2, 2.2, 3.1, 1],\n",
    "              [5.2, 2.6, 4.3, 1],\n",
    "              [-3.2, 6.3, -3.1, 1]])"
   ]
  },
  {
   "cell_type": "code",
   "execution_count": 3,
   "id": "2cca2408",
   "metadata": {},
   "outputs": [],
   "source": [
    "U, S, V = np.linalg.svd(A)"
   ]
  },
  {
   "cell_type": "code",
   "execution_count": 4,
   "id": "4db52c1f",
   "metadata": {},
   "outputs": [],
   "source": [
    "V_T = np.transpose(V)"
   ]
  },
  {
   "cell_type": "code",
   "execution_count": 5,
   "id": "025c6c56",
   "metadata": {},
   "outputs": [
    {
     "data": {
      "text/plain": [
       "array([ 0.07830576, -0.20655789, -0.19216656,  0.95617679])"
      ]
     },
     "execution_count": 5,
     "metadata": {},
     "output_type": "execute_result"
    }
   ],
   "source": [
    "V_T[:, -1]"
   ]
  },
  {
   "cell_type": "code",
   "execution_count": 6,
   "id": "82f02079",
   "metadata": {},
   "outputs": [
    {
     "data": {
      "text/plain": [
       "array([ 0.08189464, -0.21602479, -0.20097388,  1.        ])"
      ]
     },
     "execution_count": 6,
     "metadata": {},
     "output_type": "execute_result"
    }
   ],
   "source": [
    "V_T[:, -1]/V_T[:, -1][-1]"
   ]
  },
  {
   "cell_type": "code",
   "execution_count": 2,
   "id": "3b840a99",
   "metadata": {},
   "outputs": [],
   "source": [
    "# L = np.linalg.cholesky(A)\n",
    "# q, r = np.linalg.qr(a)"
   ]
  },
  {
   "cell_type": "code",
   "execution_count": null,
   "id": "f3a01ae4",
   "metadata": {},
   "outputs": [],
   "source": []
  }
 ],
 "metadata": {
  "kernelspec": {
   "display_name": "Python 3 (ipykernel)",
   "language": "python",
   "name": "python3"
  },
  "language_info": {
   "codemirror_mode": {
    "name": "ipython",
    "version": 3
   },
   "file_extension": ".py",
   "mimetype": "text/x-python",
   "name": "python",
   "nbconvert_exporter": "python",
   "pygments_lexer": "ipython3",
   "version": "3.9.7"
  }
 },
 "nbformat": 4,
 "nbformat_minor": 5
}
